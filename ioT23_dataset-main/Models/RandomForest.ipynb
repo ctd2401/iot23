{
 "cells": [
  {
   "cell_type": "code",
   "execution_count": 1,
   "id": "a382f91d",
   "metadata": {},
   "outputs": [],
   "source": [
    "import pandas as pd\n",
    "from sklearn.ensemble import RandomForestClassifier\n",
    "from sklearn.metrics import classification_report, confusion_matrix\n",
    "from sklearn.model_selection import train_test_split\n",
    "import time\n",
    "import numpy as np"
   ]
  },
  {
   "cell_type": "code",
   "execution_count": 2,
   "id": "3f2a4cc1",
   "metadata": {},
   "outputs": [],
   "source": [
    "filepath = \"D:\\iot23_prj\\Anomaly-Detection-IoT23\\Data Preprocessing\\iot23_combined.csv\""
   ]
  },
  {
   "cell_type": "code",
   "execution_count": 3,
   "id": "26ab3f52",
   "metadata": {},
   "outputs": [],
   "source": [
    "df = pd.read_csv(filepath, nrows=400000)"
   ]
  },
  {
   "cell_type": "code",
   "execution_count": 4,
   "id": "05409955",
   "metadata": {},
   "outputs": [],
   "source": [
    "del df['Unnamed: 0']"
   ]
  },
  {
   "cell_type": "code",
   "execution_count": 5,
   "id": "b9c413dd",
   "metadata": {},
   "outputs": [
    {
     "data": {
      "text/plain": [
       "(400000, 25)"
      ]
     },
     "execution_count": 5,
     "metadata": {},
     "output_type": "execute_result"
    }
   ],
   "source": [
    "df.shape"
   ]
  },
  {
   "cell_type": "code",
   "execution_count": 12,
   "id": "e6c8d164",
   "metadata": {},
   "outputs": [],
   "source": [
    "df.colums = ['duration', 'orig_bytes', 'resp_bytes', 'missed_bytes', 'orig_pkts', 'orig_ip_bytes', 'resp_pkts', 'resp_ip_bytes', 'label', 'proto_icmp', 'proto_tcp', 'proto_udp', 'conn_state_OTH', 'conn_state_REJ', 'conn_state_RSTO', 'conn_state_RSTOS0', 'conn_state_RSTR', 'conn_state_RSTRH', 'conn_state_S0', 'conn_state_S1', 'conn_state_S2', 'conn_state_S3', 'conn_state_SF', 'conn_state_SH', 'conn_state_SHR']"
   ]
  },
  {
   "cell_type": "code",
   "execution_count": 14,
   "id": "6c82e6e9",
   "metadata": {
    "scrolled": true
   },
   "outputs": [
    {
     "data": {
      "text/plain": [
       "['duration',\n",
       " 'orig_bytes',\n",
       " 'resp_bytes',\n",
       " 'missed_bytes',\n",
       " 'orig_pkts',\n",
       " 'orig_ip_bytes',\n",
       " 'resp_pkts',\n",
       " 'resp_ip_bytes',\n",
       " 'label',\n",
       " 'proto_icmp',\n",
       " 'proto_tcp',\n",
       " 'proto_udp',\n",
       " 'conn_state_OTH',\n",
       " 'conn_state_REJ',\n",
       " 'conn_state_RSTO',\n",
       " 'conn_state_RSTOS0',\n",
       " 'conn_state_RSTR',\n",
       " 'conn_state_RSTRH',\n",
       " 'conn_state_S0',\n",
       " 'conn_state_S1',\n",
       " 'conn_state_S2',\n",
       " 'conn_state_S3',\n",
       " 'conn_state_SF',\n",
       " 'conn_state_SH',\n",
       " 'conn_state_SHR']"
      ]
     },
     "execution_count": 14,
     "metadata": {},
     "output_type": "execute_result"
    }
   ],
   "source": [
    "df.colums"
   ]
  },
  {
   "cell_type": "code",
   "execution_count": 15,
   "id": "d12987da",
   "metadata": {},
   "outputs": [],
   "source": [
    "X = df[['duration', 'orig_bytes', 'resp_bytes', 'missed_bytes', 'orig_pkts', 'orig_ip_bytes', 'resp_pkts', 'resp_ip_bytes', 'proto_icmp', 'proto_tcp', 'proto_udp', 'conn_state_OTH', 'conn_state_REJ', 'conn_state_RSTO', 'conn_state_RSTOS0', 'conn_state_RSTR', 'conn_state_RSTRH', 'conn_state_S0', 'conn_state_S1', 'conn_state_S2', 'conn_state_S3', 'conn_state_SF', 'conn_state_SH', 'conn_state_SHR']]\n",
    "Y = df['label']"
   ]
  },
  {
   "cell_type": "code",
   "execution_count": 76,
   "id": "ccf790b9",
   "metadata": {},
   "outputs": [],
   "source": [
    "RF_classifier = RandomForestClassifier(n_estimators=10, max_depth=100, min_samples_split=5, min_samples_leaf=1, random_state=10)\n",
    "X_train, X_test, Y_train, Y_test = train_test_split(X, Y, random_state=10, test_size=0.2)"
   ]
  },
  {
   "cell_type": "code",
   "execution_count": 77,
   "id": "5a5979f8",
   "metadata": {},
   "outputs": [
    {
     "name": "stdout",
     "output_type": "stream",
     "text": [
      "program start...\n",
      "\n",
      "prediction:\n",
      "\n",
      "\n",
      "0.7981625\n",
      "\n",
      "program end...\n",
      "\n",
      "time cost: \n",
      "2.8952620029449463 seconds\n"
     ]
    }
   ],
   "source": [
    "start = time.time()\n",
    "print('program start...')\n",
    "print()\n",
    "\n",
    "RF_classifier = RF_classifier.fit(X_train, Y_train)\n",
    "\n",
    "print('prediction:')\n",
    "y_pred = RF_classifier.predict(X_test)\n",
    "\n",
    "print()\n",
    "print()\n",
    "print(RF_classifier.score(X_test, Y_test))\n",
    "print()\n",
    "\n",
    "\n",
    "end = time.time()\n",
    "print('program end...')\n",
    "print()\n",
    "print('time cost: ')\n",
    "print(end - start, 'seconds')"
   ]
  },
  {
   "cell_type": "code",
   "execution_count": 78,
   "id": "1d5f69ed",
   "metadata": {},
   "outputs": [
    {
     "name": "stdout",
     "output_type": "stream",
     "text": [
      "Classifiction Report :\n"
     ]
    },
    {
     "name": "stderr",
     "output_type": "stream",
     "text": [
      "H:\\programs\\anaconda3\\envs\\iot23\\lib\\site-packages\\sklearn\\metrics\\_classification.py:1221: UndefinedMetricWarning: Precision and F-score are ill-defined and being set to 0.0 in labels with no predicted samples. Use `zero_division` parameter to control this behavior.\n",
      "  _warn_prf(average, modifier, msg_start, len(result))\n"
     ]
    },
    {
     "name": "stdout",
     "output_type": "stream",
     "text": [
      "                           precision    recall  f1-score   support\n",
      "\n",
      "                   Attack       1.00      1.00      1.00       743\n",
      "                   Benign       0.99      0.88      0.93     11473\n",
      "                      C&C       0.33      1.00      0.50         1\n",
      "            C&C-HeartBeat       1.00      0.33      0.50         3\n",
      "                C&C-Torii       0.50      0.17      0.25         6\n",
      "                     DDoS       0.00      0.00      0.00      4938\n",
      "                    Okiru       1.00      0.00      0.00      9749\n",
      "PartOfAHorizontalPortScan       0.77      1.00      0.87     53087\n",
      "\n",
      "                 accuracy                           0.80     80000\n",
      "                macro avg       0.70      0.55      0.51     80000\n",
      "             weighted avg       0.78      0.80      0.72     80000\n",
      "\n"
     ]
    }
   ],
   "source": [
    "print(\"Classifiction Report :\")\n",
    "print(classification_report(Y_test, y_pred))"
   ]
  },
  {
   "cell_type": "code",
   "execution_count": null,
   "id": "991aa9c9",
   "metadata": {},
   "outputs": [],
   "source": []
  }
 ],
 "metadata": {
  "kernelspec": {
   "display_name": "Python [conda env:iot23]",
   "language": "python",
   "name": "conda-env-iot23-py"
  },
  "language_info": {
   "codemirror_mode": {
    "name": "ipython",
    "version": 3
   },
   "file_extension": ".py",
   "mimetype": "text/x-python",
   "name": "python",
   "nbconvert_exporter": "python",
   "pygments_lexer": "ipython3",
   "version": "3.7.0"
  }
 },
 "nbformat": 4,
 "nbformat_minor": 5
}
